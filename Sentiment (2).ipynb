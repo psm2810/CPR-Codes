{
 "cells": [
  {
   "cell_type": "code",
   "execution_count": 1,
   "id": "be0b0ef5-bdb7-4b44-a91c-65d8371a468e",
   "metadata": {
    "tags": []
   },
   "outputs": [
    {
     "name": "stderr",
     "output_type": "stream",
     "text": [
      "2024-09-09 13:51:40.028725: I tensorflow/core/platform/cpu_feature_guard.cc:182] This TensorFlow binary is optimized to use available CPU instructions in performance-critical operations.\n",
      "To enable the following instructions: AVX2 FMA, in other operations, rebuild TensorFlow with the appropriate compiler flags.\n"
     ]
    }
   ],
   "source": [
    "import vertexai\n",
    "from vertexai.language_models import TextGenerationModel\n",
    "import pandas as pd"
   ]
  },
  {
   "cell_type": "code",
   "execution_count": 2,
   "id": "e8320642-6c03-423f-b489-42e9128f78aa",
   "metadata": {
    "tags": []
   },
   "outputs": [],
   "source": [
    "data = pd.read_csv(r'./input/CPR_Aug_2024.csv')"
   ]
  },
  {
   "cell_type": "code",
   "execution_count": 3,
   "id": "096ff553-c28e-4690-bf2c-08a0f8161fbc",
   "metadata": {
    "tags": []
   },
   "outputs": [],
   "source": [
    "vertexai.init(project=\"ford-180395bd732cdd9af050c1f7\", location=\"us-central1\")\n",
    "parameters = {\n",
    "    \"candidate_count\": 1,\n",
    "    \"max_output_tokens\": 5,\n",
    "    \"temperature\": 0.2,\n",
    "    \"top_p\": 0.8,\n",
    "    \"top_k\": 1\n",
    "}\n",
    "model = TextGenerationModel.from_pretrained(\"text-bison@001\")"
   ]
  },
  {
   "cell_type": "code",
   "execution_count": 4,
   "id": "34eb572c-996f-4440-9c42-9136fc287289",
   "metadata": {
    "tags": []
   },
   "outputs": [],
   "source": [
    "prompt_train =\"\"\"Define the sentiment for the text below?\n",
    "Options:\n",
    "- positive\n",
    "- negative\n",
    "- neutral\n",
    "\n",
    "If the text contains single word without any context then assign sentiment as neutral.\n",
    "\n",
    "Text: It is american company that cares for the people.\n",
    "sentiment: positive\n",
    "\n",
    "Text: I have heard that they are making high quality products that are affordable.\n",
    "sentiment: positive\n",
    "\n",
    "Text: Ford has agreed to increase its workforce salaries.\n",
    "sentiment: positive\n",
    "\n",
    "Text: Problems with a F-150 Large Engine\n",
    "sentiment: negative\n",
    "\n",
    "Text: I have family that own Ford cars and they arent happy with the service they get in their cars\n",
    "sentiment: negative\n",
    "\n",
    "Text: The new electric vehicules has not doing like they were expected.\n",
    "sentiment: negative\n",
    "\n",
    "Text: Ford has partnered with Germanys Volkswagen Group to develop electric vehicle technology.\n",
    "sentiment: neutral\n",
    "\n",
    "Text: It was an advertisement for new vehicles\n",
    "sentiment: neutral\n",
    "\n",
    "Text: Don't remember\n",
    "sentiment: neutral\n",
    "\n",
    "Text: The new Ford F-150 Lightning\n",
    "sentiment: neutral\n",
    "\n",
    "Text: \"\"\"\n",
    "\n",
    "prompt_senti = \"\\nsentiment: \"\n"
   ]
  },
  {
   "cell_type": "code",
   "execution_count": 5,
   "id": "2def1f67-f6f7-47dc-9318-411d68d70913",
   "metadata": {
    "tags": []
   },
   "outputs": [],
   "source": [
    "import time\n",
    "def split_data_senti(sub_data):\n",
    "    sentiment=[]\n",
    "    for i in range(0,len(sub_data)):\n",
    "        prompt_test = sub_data['text'].iloc[i]\n",
    "        prompt_test_s = str(prompt_test)\n",
    "        prompt = prompt_train + prompt_test_s + prompt_senti\n",
    "        response = model.predict(prompt,**parameters)\n",
    "        #print(f\"{response.text}\")\n",
    "        sentiment.append(response.text)\n",
    "        time.sleep(2)\n",
    "    \n",
    "    final = pd.concat([sub_data,pd.DataFrame(sentiment, columns=['sentiment'])], axis=1)\n",
    "    return final"
   ]
  },
  {
   "cell_type": "code",
   "execution_count": 6,
   "id": "ce99d801-efce-4ebb-afec-e5fa22f1c24c",
   "metadata": {
    "tags": []
   },
   "outputs": [],
   "source": [
    "output_few = split_data_senti(data)"
   ]
  },
  {
   "cell_type": "code",
   "execution_count": 7,
   "id": "b4f0651c-184c-4d10-bb97-7c644c49b2bd",
   "metadata": {
    "tags": []
   },
   "outputs": [
    {
     "data": {
      "text/html": [
       "<div>\n",
       "<style scoped>\n",
       "    .dataframe tbody tr th:only-of-type {\n",
       "        vertical-align: middle;\n",
       "    }\n",
       "\n",
       "    .dataframe tbody tr th {\n",
       "        vertical-align: top;\n",
       "    }\n",
       "\n",
       "    .dataframe thead th {\n",
       "        text-align: right;\n",
       "    }\n",
       "</style>\n",
       "<table border=\"1\" class=\"dataframe\">\n",
       "  <thead>\n",
       "    <tr style=\"text-align: right;\">\n",
       "      <th></th>\n",
       "      <th>id</th>\n",
       "      <th>text</th>\n",
       "      <th>month</th>\n",
       "      <th>year</th>\n",
       "      <th>sentiment</th>\n",
       "    </tr>\n",
       "  </thead>\n",
       "  <tbody>\n",
       "    <tr>\n",
       "      <th>0</th>\n",
       "      <td>R_1QXxniNV3YpqUPq</td>\n",
       "      <td>It was about new vehicle</td>\n",
       "      <td>Aug</td>\n",
       "      <td>2024</td>\n",
       "      <td>neutral</td>\n",
       "    </tr>\n",
       "    <tr>\n",
       "      <th>1</th>\n",
       "      <td>R_3DhVOZ3PTKZkWgp</td>\n",
       "      <td>Yes I have seen commercials for ford</td>\n",
       "      <td>Aug</td>\n",
       "      <td>2024</td>\n",
       "      <td>neutral</td>\n",
       "    </tr>\n",
       "    <tr>\n",
       "      <th>2</th>\n",
       "      <td>R_5Ea54NwgY2tkvR6</td>\n",
       "      <td>buy a ford product</td>\n",
       "      <td>Aug</td>\n",
       "      <td>2024</td>\n",
       "      <td>neutral</td>\n",
       "    </tr>\n",
       "    <tr>\n",
       "      <th>3</th>\n",
       "      <td>R_1YEbWB9AKWFLJnK</td>\n",
       "      <td>largest employer in usa</td>\n",
       "      <td>Aug</td>\n",
       "      <td>2024</td>\n",
       "      <td>neutral</td>\n",
       "    </tr>\n",
       "    <tr>\n",
       "      <th>4</th>\n",
       "      <td>R_1co47Ec7FvuwRpO</td>\n",
       "      <td>Fords recall of F-150 vehicles</td>\n",
       "      <td>Aug</td>\n",
       "      <td>2024</td>\n",
       "      <td>negative</td>\n",
       "    </tr>\n",
       "    <tr>\n",
       "      <th>...</th>\n",
       "      <td>...</td>\n",
       "      <td>...</td>\n",
       "      <td>...</td>\n",
       "      <td>...</td>\n",
       "      <td>...</td>\n",
       "    </tr>\n",
       "    <tr>\n",
       "      <th>467</th>\n",
       "      <td>R_6nCY5c1j1ZGUX9S</td>\n",
       "      <td>that it was exapanding</td>\n",
       "      <td>Aug</td>\n",
       "      <td>2024</td>\n",
       "      <td>neutral</td>\n",
       "    </tr>\n",
       "    <tr>\n",
       "      <th>468</th>\n",
       "      <td>R_3t9fVWP70zFU9iP</td>\n",
       "      <td>It has a good fit for motor that make a good f...</td>\n",
       "      <td>Aug</td>\n",
       "      <td>2024</td>\n",
       "      <td>positive</td>\n",
       "    </tr>\n",
       "    <tr>\n",
       "      <th>469</th>\n",
       "      <td>R_1n0P0NNv5Ijvesp</td>\n",
       "      <td>Great</td>\n",
       "      <td>Aug</td>\n",
       "      <td>2024</td>\n",
       "      <td>positive</td>\n",
       "    </tr>\n",
       "    <tr>\n",
       "      <th>470</th>\n",
       "      <td>R_3P3eupNFhLpNxFT</td>\n",
       "      <td>No trucks out</td>\n",
       "      <td>Aug</td>\n",
       "      <td>2024</td>\n",
       "      <td>negative</td>\n",
       "    </tr>\n",
       "    <tr>\n",
       "      <th>471</th>\n",
       "      <td>R_3xPUgaWXhF2HQCB</td>\n",
       "      <td>Something about a union</td>\n",
       "      <td>Aug</td>\n",
       "      <td>2024</td>\n",
       "      <td>neutral</td>\n",
       "    </tr>\n",
       "  </tbody>\n",
       "</table>\n",
       "<p>472 rows × 5 columns</p>\n",
       "</div>"
      ],
      "text/plain": [
       "                    id                                               text  \\\n",
       "0    R_1QXxniNV3YpqUPq                           It was about new vehicle   \n",
       "1    R_3DhVOZ3PTKZkWgp               Yes I have seen commercials for ford   \n",
       "2    R_5Ea54NwgY2tkvR6                                 buy a ford product   \n",
       "3    R_1YEbWB9AKWFLJnK                            largest employer in usa   \n",
       "4    R_1co47Ec7FvuwRpO                     Fords recall of F-150 vehicles   \n",
       "..                 ...                                                ...   \n",
       "467  R_6nCY5c1j1ZGUX9S                             that it was exapanding   \n",
       "468  R_3t9fVWP70zFU9iP  It has a good fit for motor that make a good f...   \n",
       "469  R_1n0P0NNv5Ijvesp                                              Great   \n",
       "470  R_3P3eupNFhLpNxFT                                      No trucks out   \n",
       "471  R_3xPUgaWXhF2HQCB                            Something about a union   \n",
       "\n",
       "    month  year sentiment  \n",
       "0     Aug  2024   neutral  \n",
       "1     Aug  2024   neutral  \n",
       "2     Aug  2024   neutral  \n",
       "3     Aug  2024   neutral  \n",
       "4     Aug  2024  negative  \n",
       "..    ...   ...       ...  \n",
       "467   Aug  2024   neutral  \n",
       "468   Aug  2024  positive  \n",
       "469   Aug  2024  positive  \n",
       "470   Aug  2024  negative  \n",
       "471   Aug  2024   neutral  \n",
       "\n",
       "[472 rows x 5 columns]"
      ]
     },
     "execution_count": 7,
     "metadata": {},
     "output_type": "execute_result"
    }
   ],
   "source": [
    "output_few"
   ]
  },
  {
   "cell_type": "code",
   "execution_count": 8,
   "id": "96022f02-781b-4e96-9855-b75a97b15ff8",
   "metadata": {
    "tags": []
   },
   "outputs": [],
   "source": [
    "output_few.to_csv('./output/sentiment_cpr_fewshot_Aug_2024.csv')"
   ]
  },
  {
   "cell_type": "code",
   "execution_count": null,
   "id": "58c4751e-5276-4de7-ba73-49747ebcca94",
   "metadata": {},
   "outputs": [],
   "source": []
  }
 ],
 "metadata": {
  "environment": {
   "kernel": "python3",
   "name": "tf2-cpu.2-11.m113",
   "type": "gcloud",
   "uri": "gcr.io/deeplearning-platform-release/tf2-cpu.2-11:m113"
  },
  "kernelspec": {
   "display_name": "Python 3",
   "language": "python",
   "name": "python3"
  },
  "language_info": {
   "codemirror_mode": {
    "name": "ipython",
    "version": 3
   },
   "file_extension": ".py",
   "mimetype": "text/x-python",
   "name": "python",
   "nbconvert_exporter": "python",
   "pygments_lexer": "ipython3",
   "version": "3.10.13"
  }
 },
 "nbformat": 4,
 "nbformat_minor": 5
}
