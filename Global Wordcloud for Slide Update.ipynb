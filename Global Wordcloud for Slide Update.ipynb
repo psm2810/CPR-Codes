{
 "cells": [
  {
   "cell_type": "code",
   "execution_count": null,
   "id": "261e0477",
   "metadata": {
    "tags": []
   },
   "outputs": [],
   "source": [
    "# !pip install tensorflow --proxy=http://internet.ford.com:83"
   ]
  },
  {
   "cell_type": "code",
   "execution_count": null,
   "id": "1b9df72d",
   "metadata": {
    "tags": []
   },
   "outputs": [],
   "source": [
    "# !pip install tensorflow-hub --proxy=http://internet.ford.com:83"
   ]
  },
  {
   "cell_type": "code",
   "execution_count": null,
   "id": "5eff1127",
   "metadata": {
    "tags": []
   },
   "outputs": [],
   "source": [
    "# !pip install sentence_transformers --proxy=http://internet.ford.com:83"
   ]
  },
  {
   "cell_type": "code",
   "execution_count": null,
   "id": "bae0dcf4-2716-4e50-b47c-934755532444",
   "metadata": {
    "tags": []
   },
   "outputs": [],
   "source": [
    "# !pip install spacy --proxy=http://internet.ford.com:83"
   ]
  },
  {
   "cell_type": "code",
   "execution_count": null,
   "id": "972a6280-0fc0-443f-9112-fff37d19952c",
   "metadata": {
    "tags": []
   },
   "outputs": [],
   "source": [
    "# !pip --proxy=http://internet.ford.com:83 install https://github.com/explosion/spacy-models/releases/download/en_core_web_sm-3.0.0/en_core_web_sm-3.0.0.tar.gz"
   ]
  },
  {
   "cell_type": "code",
   "execution_count": 1,
   "id": "134d7bd8-d879-4aa7-b9b6-04dc342eaa37",
   "metadata": {
    "tags": []
   },
   "outputs": [
    {
     "data": {
      "text/plain": [
       "'/home/jupyter/NLP/CPR/Aug 2024'"
      ]
     },
     "execution_count": 1,
     "metadata": {},
     "output_type": "execute_result"
    }
   ],
   "source": [
    "import os\n",
    "os.getcwd()"
   ]
  },
  {
   "cell_type": "code",
   "execution_count": 2,
   "id": "eb8cd14a",
   "metadata": {
    "tags": []
   },
   "outputs": [
    {
     "name": "stderr",
     "output_type": "stream",
     "text": [
      "/opt/conda/lib/python3.10/site-packages/torch/cuda/__init__.py:141: UserWarning: CUDA initialization: The NVIDIA driver on your system is too old (found version 11060). Please update your GPU driver by downloading and installing a new version from the URL: http://www.nvidia.com/Download/index.aspx Alternatively, go to: https://pytorch.org to install a PyTorch version that has been compiled with your version of the CUDA driver. (Triggered internally at ../c10/cuda/CUDAFunctions.cpp:108.)\n",
      "  return torch._C._cuda_getDeviceCount() > 0\n",
      "2024-09-30 06:22:17.299704: I tensorflow/core/platform/cpu_feature_guard.cc:182] This TensorFlow binary is optimized to use available CPU instructions in performance-critical operations.\n",
      "To enable the following instructions: AVX2 FMA, in other operations, rebuild TensorFlow with the appropriate compiler flags.\n"
     ]
    }
   ],
   "source": [
    "import spacy\n",
    "import wordcloud\n",
    "import pandas as pd\n",
    "import matplotlib.pyplot as plt\n",
    "from wordcloud import WordCloud, STOPWORDS"
   ]
  },
  {
   "cell_type": "code",
   "execution_count": 3,
   "id": "ec7677f3",
   "metadata": {
    "tags": []
   },
   "outputs": [],
   "source": [
    "%matplotlib inline"
   ]
  },
  {
   "cell_type": "code",
   "execution_count": 4,
   "id": "6281bbe5",
   "metadata": {
    "tags": []
   },
   "outputs": [
    {
     "data": {
      "text/html": [
       "<div>\n",
       "<style scoped>\n",
       "    .dataframe tbody tr th:only-of-type {\n",
       "        vertical-align: middle;\n",
       "    }\n",
       "\n",
       "    .dataframe tbody tr th {\n",
       "        vertical-align: top;\n",
       "    }\n",
       "\n",
       "    .dataframe thead th {\n",
       "        text-align: right;\n",
       "    }\n",
       "</style>\n",
       "<table border=\"1\" class=\"dataframe\">\n",
       "  <thead>\n",
       "    <tr style=\"text-align: right;\">\n",
       "      <th></th>\n",
       "      <th>Id</th>\n",
       "      <th>text</th>\n",
       "      <th>category</th>\n",
       "      <th>standard models</th>\n",
       "      <th>sentiment</th>\n",
       "      <th>Month</th>\n",
       "      <th>Year</th>\n",
       "    </tr>\n",
       "  </thead>\n",
       "  <tbody>\n",
       "    <tr>\n",
       "      <th>0</th>\n",
       "      <td>10001</td>\n",
       "      <td>3</td>\n",
       "      <td>Other</td>\n",
       "      <td>NaN</td>\n",
       "      <td>neutral</td>\n",
       "      <td>Aug</td>\n",
       "      <td>2023</td>\n",
       "    </tr>\n",
       "    <tr>\n",
       "      <th>1</th>\n",
       "      <td>10002</td>\n",
       "      <td>It’s a good company</td>\n",
       "      <td>Organization feedback</td>\n",
       "      <td>NaN</td>\n",
       "      <td>positive</td>\n",
       "      <td>Aug</td>\n",
       "      <td>2023</td>\n",
       "    </tr>\n",
       "    <tr>\n",
       "      <th>2</th>\n",
       "      <td>10003</td>\n",
       "      <td>Not sure</td>\n",
       "      <td>Other</td>\n",
       "      <td>NaN</td>\n",
       "      <td>neutral</td>\n",
       "      <td>Aug</td>\n",
       "      <td>2023</td>\n",
       "    </tr>\n",
       "    <tr>\n",
       "      <th>3</th>\n",
       "      <td>10004</td>\n",
       "      <td>New technology</td>\n",
       "      <td>Other</td>\n",
       "      <td>NaN</td>\n",
       "      <td>neutral</td>\n",
       "      <td>Aug</td>\n",
       "      <td>2023</td>\n",
       "    </tr>\n",
       "    <tr>\n",
       "      <th>4</th>\n",
       "      <td>10005</td>\n",
       "      <td>Their new product</td>\n",
       "      <td>Other</td>\n",
       "      <td>NaN</td>\n",
       "      <td>neutral</td>\n",
       "      <td>Aug</td>\n",
       "      <td>2023</td>\n",
       "    </tr>\n",
       "  </tbody>\n",
       "</table>\n",
       "</div>"
      ],
      "text/plain": [
       "      Id                 text               category standard models  \\\n",
       "0  10001                    3                  Other             NaN   \n",
       "1  10002  It’s a good company  Organization feedback             NaN   \n",
       "2  10003             Not sure                  Other             NaN   \n",
       "3  10004       New technology                  Other             NaN   \n",
       "4  10005    Their new product                  Other             NaN   \n",
       "\n",
       "  sentiment Month  Year  \n",
       "0   neutral   Aug  2023  \n",
       "1  positive   Aug  2023  \n",
       "2   neutral   Aug  2023  \n",
       "3   neutral   Aug  2023  \n",
       "4   neutral   Aug  2023  "
      ]
     },
     "execution_count": 4,
     "metadata": {},
     "output_type": "execute_result"
    }
   ],
   "source": [
    "# Load the data\n",
    "import pandas as pd\n",
    "df = pd.read_csv(r'./input/CPR_consolidated_Aug2023_Aug2024.csv')\n",
    "df.head()"
   ]
  },
  {
   "cell_type": "code",
   "execution_count": 5,
   "id": "f6ee8bbc",
   "metadata": {
    "tags": []
   },
   "outputs": [
    {
     "name": "stderr",
     "output_type": "stream",
     "text": [
      "/opt/conda/lib/python3.10/site-packages/torch/__init__.py:696: UserWarning: torch.set_default_tensor_type() is deprecated as of PyTorch 2.1, please use torch.set_default_dtype() and torch.set_default_device() as alternatives. (Triggered internally at ../torch/csrc/tensor/python_tensor.cpp:451.)\n",
      "  _C._set_default_tensor_type(t)\n"
     ]
    }
   ],
   "source": [
    "# Clean the data\n",
    "nlp = spacy.load('en_core_web_sm')\n",
    "stopwords = list(STOPWORDS)\n",
    "stopwords.extend(['Ford','the', 'is', 'of', 'and', 'a', 'in', 'to', 'on', 'for', 'you', 'your', 'me', 'my', 'i', 'we', 'our', 'they', 'their', 'them', 'this', 'that', 'these', 'those', 'he', 'she', 'it', 'him', 'her', 'its', 'has', 'have', 'had', 'do', 'does', 'did', 'will', 'would', 'should', 'could', 'may', 'might', 'must', 'can', 'cannot', 'not', 'no', 'but', 'or', 'if', 'then', 'else', 'when', 'where', 'why', 'how', 'what', 'who', 'whom', 'whose', 'which', 'whether', 'few', 'several', 'many', 'most', 'all', 'any', 'some', 'none', 'one', 'two', 'three', 'four', 'five', 'six', 'seven', 'eight', 'nine', 'ten', 'hundred', 'thousand', 'million', 'billion', 'trillion', 'etc', 'etc.', 'new'])\n",
    "def clean_text(text):\n",
    "    doc = nlp(str(text), disable=['parser', 'ner'])\n",
    "    tokens = [token.lemma_ for token in doc if not token.is_stop]# and not token.is_punct and len(token.text) > 2]\n",
    "    return ' '.join(tokens)"
   ]
  },
  {
   "cell_type": "code",
   "execution_count": 6,
   "id": "4d395bc8",
   "metadata": {
    "tags": []
   },
   "outputs": [],
   "source": [
    "df['cleaned_text'] = df['text'].apply(clean_text)"
   ]
  },
  {
   "cell_type": "code",
   "execution_count": 7,
   "id": "45ed9d59-6d56-4522-85ec-7452b0f1491f",
   "metadata": {
    "tags": []
   },
   "outputs": [],
   "source": [
    "#df.loc[df[\"Month\"] ==\"Mar\",:].head()"
   ]
  },
  {
   "cell_type": "code",
   "execution_count": 8,
   "id": "7e2823cb",
   "metadata": {
    "tags": []
   },
   "outputs": [],
   "source": [
    "#df.loc[df[\"category\"] ==\"Corporate issues\",:].head()"
   ]
  },
  {
   "cell_type": "code",
   "execution_count": 9,
   "id": "40b6a786",
   "metadata": {
    "tags": []
   },
   "outputs": [],
   "source": [
    "#df.loc[df[\"sentiment\"] ==\"neutral\",:]['cleaned_text']"
   ]
  },
  {
   "cell_type": "code",
   "execution_count": 10,
   "id": "4d16841e",
   "metadata": {
    "tags": []
   },
   "outputs": [],
   "source": [
    "# # Create a global wordcloud\n",
    "# wordcloud = WordCloud(stopwords=stopwords, background_color='white',max_words=100).generate(' '.join(df.loc[df[\"sentiment\"] ==\"neutral\",:]['cleaned_text']))\n",
    "# #plt.figure(figsize=(10, 10))\n",
    "# #plt.imshow(wordcloud)\n",
    "# #plt.axis('off')\n",
    "# #plt.show()\n",
    "# wordcloud.to_file('./output/Wordclouds/Overall_wordcloud.png')"
   ]
  },
  {
   "cell_type": "code",
   "execution_count": 7,
   "id": "9aa11f8c-c4df-4221-8a68-e8fd3fb9499d",
   "metadata": {
    "tags": []
   },
   "outputs": [
    {
     "data": {
      "text/plain": [
       "<wordcloud.wordcloud.WordCloud at 0x7fdef87bfac0>"
      ]
     },
     "execution_count": 7,
     "metadata": {},
     "output_type": "execute_result"
    }
   ],
   "source": [
    "## Removing sentiment = neutral\n",
    "\n",
    "# Create a global wordcloud\n",
    "wordcloud = WordCloud(stopwords=stopwords, background_color='white',max_words=100).generate(' '.join(df['cleaned_text']))\n",
    "#plt.figure(figsize=(10, 10))\n",
    "#plt.imshow(wordcloud)\n",
    "#plt.axis('off')\n",
    "#plt.show()\n",
    "wordcloud.to_file('./output/Wordclouds/Overall_wordcloud_ALL.png')"
   ]
  },
  {
   "cell_type": "code",
   "execution_count": 12,
   "id": "d8968c8c",
   "metadata": {
    "tags": []
   },
   "outputs": [],
   "source": [
    "# Create a wordcloud by sentiment\n",
    "for sentiment in df['sentiment'].unique():\n",
    "    wordcloud = WordCloud(stopwords=stopwords, background_color='white').generate(' '.join(df[df['sentiment'] == sentiment]['cleaned_text']))\n",
    "    #wordcloud.to_file(f'Wordclouds\\\\overall_wordcloud\\\\{sentiment}.png')\n",
    "    wordcloud.to_file(f'output/Wordclouds/Overall_{sentiment}.png')"
   ]
  },
  {
   "cell_type": "code",
   "execution_count": 13,
   "id": "0fc12753-03f0-4f99-8f9f-c5bf27f4fea3",
   "metadata": {
    "tags": []
   },
   "outputs": [
    {
     "data": {
      "text/plain": [
       "array(['Other', 'Organization feedback', 'Product related',\n",
       "       'New technology or unique features', 'Electrification', 'Branding',\n",
       "       'Corporate issues', 'Corporate issues, Electrification',\n",
       "       'Electrification, Corporate issues', 'Branding, Corporate issues',\n",
       "       'Product related, Corporate issues',\n",
       "       'Corporate issues, Electrification, Organization feedback',\n",
       "       'New technology, unique features/services'], dtype=object)"
      ]
     },
     "execution_count": 13,
     "metadata": {},
     "output_type": "execute_result"
    }
   ],
   "source": [
    "df['category'].unique()"
   ]
  },
  {
   "cell_type": "code",
   "execution_count": 14,
   "id": "1bfa11d7-3071-4b95-b3d9-164d412bc18f",
   "metadata": {
    "tags": []
   },
   "outputs": [],
   "source": [
    "df['category']=df['category'].str.replace('/','-')"
   ]
  },
  {
   "cell_type": "code",
   "execution_count": 15,
   "id": "ab33a903-c5eb-4a2b-ad7c-c3780a5b0ea5",
   "metadata": {
    "tags": []
   },
   "outputs": [
    {
     "data": {
      "text/plain": [
       "array(['Other', 'Organization feedback', 'Product related',\n",
       "       'New technology or unique features', 'Electrification', 'Branding',\n",
       "       'Corporate issues', 'Corporate issues, Electrification',\n",
       "       'Electrification, Corporate issues', 'Branding, Corporate issues',\n",
       "       'Product related, Corporate issues',\n",
       "       'Corporate issues, Electrification, Organization feedback',\n",
       "       'New technology, unique features-services'], dtype=object)"
      ]
     },
     "execution_count": 15,
     "metadata": {},
     "output_type": "execute_result"
    }
   ],
   "source": [
    "df['category'].unique()"
   ]
  },
  {
   "cell_type": "code",
   "execution_count": 16,
   "id": "2823fd85",
   "metadata": {
    "tags": []
   },
   "outputs": [],
   "source": [
    "# Create wordclouds by Category\n",
    "for category in df['category'].unique():\n",
    "    wordcloud = WordCloud(stopwords=stopwords, background_color='white').generate(' '.join(df[df['category'] == category]['cleaned_text']))\n",
    "    wordcloud.to_file(f'output/Wordclouds/Overall_{category}.png')"
   ]
  },
  {
   "cell_type": "code",
   "execution_count": null,
   "id": "49fa29a5",
   "metadata": {},
   "outputs": [],
   "source": []
  }
 ],
 "metadata": {
  "environment": {
   "kernel": "python3",
   "name": "tf2-cpu.2-11.m113",
   "type": "gcloud",
   "uri": "gcr.io/deeplearning-platform-release/tf2-cpu.2-11:m113"
  },
  "kernelspec": {
   "display_name": "Python 3",
   "language": "python",
   "name": "python3"
  },
  "language_info": {
   "codemirror_mode": {
    "name": "ipython",
    "version": 3
   },
   "file_extension": ".py",
   "mimetype": "text/x-python",
   "name": "python",
   "nbconvert_exporter": "python",
   "pygments_lexer": "ipython3",
   "version": "3.10.13"
  }
 },
 "nbformat": 4,
 "nbformat_minor": 5
}
