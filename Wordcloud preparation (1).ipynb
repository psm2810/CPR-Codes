{
 "cells": [
  {
   "cell_type": "code",
   "execution_count": null,
   "id": "261e0477",
   "metadata": {
    "tags": []
   },
   "outputs": [],
   "source": [
    "# !pip install tensorflow --proxy=http://internet.ford.com:83"
   ]
  },
  {
   "cell_type": "code",
   "execution_count": null,
   "id": "1b9df72d",
   "metadata": {
    "tags": []
   },
   "outputs": [],
   "source": [
    "# !pip install tensorflow-hub --proxy=http://internet.ford.com:83"
   ]
  },
  {
   "cell_type": "code",
   "execution_count": null,
   "id": "5eff1127",
   "metadata": {
    "tags": []
   },
   "outputs": [],
   "source": [
    "# !pip install sentence_transformers --proxy=http://internet.ford.com:83"
   ]
  },
  {
   "cell_type": "code",
   "execution_count": null,
   "id": "bae0dcf4-2716-4e50-b47c-934755532444",
   "metadata": {
    "tags": []
   },
   "outputs": [],
   "source": [
    "# !pip install spacy --proxy=http://internet.ford.com:83"
   ]
  },
  {
   "cell_type": "code",
   "execution_count": null,
   "id": "972a6280-0fc0-443f-9112-fff37d19952c",
   "metadata": {
    "tags": []
   },
   "outputs": [],
   "source": [
    "# !pip --proxy=http://internet.ford.com:83 install https://github.com/explosion/spacy-models/releases/download/en_core_web_sm-3.0.0/en_core_web_sm-3.0.0.tar.gz"
   ]
  },
  {
   "cell_type": "code",
   "execution_count": 1,
   "id": "eb8cd14a",
   "metadata": {
    "tags": []
   },
   "outputs": [
    {
     "name": "stderr",
     "output_type": "stream",
     "text": [
      "/opt/conda/lib/python3.10/site-packages/torch/cuda/__init__.py:141: UserWarning: CUDA initialization: The NVIDIA driver on your system is too old (found version 11060). Please update your GPU driver by downloading and installing a new version from the URL: http://www.nvidia.com/Download/index.aspx Alternatively, go to: https://pytorch.org to install a PyTorch version that has been compiled with your version of the CUDA driver. (Triggered internally at ../c10/cuda/CUDAFunctions.cpp:108.)\n",
      "  return torch._C._cuda_getDeviceCount() > 0\n",
      "2024-09-27 06:41:12.699446: I tensorflow/core/platform/cpu_feature_guard.cc:182] This TensorFlow binary is optimized to use available CPU instructions in performance-critical operations.\n",
      "To enable the following instructions: AVX2 FMA, in other operations, rebuild TensorFlow with the appropriate compiler flags.\n"
     ]
    }
   ],
   "source": [
    "import spacy\n",
    "import wordcloud\n",
    "import pandas as pd\n",
    "import matplotlib.pyplot as plt\n",
    "from wordcloud import WordCloud, STOPWORDS"
   ]
  },
  {
   "cell_type": "code",
   "execution_count": 2,
   "id": "ec7677f3",
   "metadata": {
    "tags": []
   },
   "outputs": [],
   "source": [
    "%matplotlib inline"
   ]
  },
  {
   "cell_type": "code",
   "execution_count": 3,
   "id": "7a2b4be4-5914-4de1-b0bf-2f44883b4034",
   "metadata": {
    "tags": []
   },
   "outputs": [
    {
     "data": {
      "text/html": [
       "<div>\n",
       "<style scoped>\n",
       "    .dataframe tbody tr th:only-of-type {\n",
       "        vertical-align: middle;\n",
       "    }\n",
       "\n",
       "    .dataframe tbody tr th {\n",
       "        vertical-align: top;\n",
       "    }\n",
       "\n",
       "    .dataframe thead th {\n",
       "        text-align: right;\n",
       "    }\n",
       "</style>\n",
       "<table border=\"1\" class=\"dataframe\">\n",
       "  <thead>\n",
       "    <tr style=\"text-align: right;\">\n",
       "      <th></th>\n",
       "      <th>Unnamed: 0</th>\n",
       "      <th>id</th>\n",
       "      <th>text</th>\n",
       "      <th>month</th>\n",
       "      <th>year</th>\n",
       "      <th>sentiment</th>\n",
       "    </tr>\n",
       "  </thead>\n",
       "  <tbody>\n",
       "    <tr>\n",
       "      <th>0</th>\n",
       "      <td>0</td>\n",
       "      <td>R_1QXxniNV3YpqUPq</td>\n",
       "      <td>It was about new vehicle</td>\n",
       "      <td>Aug</td>\n",
       "      <td>2024</td>\n",
       "      <td>neutral</td>\n",
       "    </tr>\n",
       "    <tr>\n",
       "      <th>1</th>\n",
       "      <td>1</td>\n",
       "      <td>R_3DhVOZ3PTKZkWgp</td>\n",
       "      <td>Yes I have seen commercials for ford</td>\n",
       "      <td>Aug</td>\n",
       "      <td>2024</td>\n",
       "      <td>neutral</td>\n",
       "    </tr>\n",
       "    <tr>\n",
       "      <th>2</th>\n",
       "      <td>2</td>\n",
       "      <td>R_5Ea54NwgY2tkvR6</td>\n",
       "      <td>buy a ford product</td>\n",
       "      <td>Aug</td>\n",
       "      <td>2024</td>\n",
       "      <td>neutral</td>\n",
       "    </tr>\n",
       "    <tr>\n",
       "      <th>3</th>\n",
       "      <td>3</td>\n",
       "      <td>R_1YEbWB9AKWFLJnK</td>\n",
       "      <td>largest employer in usa</td>\n",
       "      <td>Aug</td>\n",
       "      <td>2024</td>\n",
       "      <td>neutral</td>\n",
       "    </tr>\n",
       "    <tr>\n",
       "      <th>4</th>\n",
       "      <td>4</td>\n",
       "      <td>R_1co47Ec7FvuwRpO</td>\n",
       "      <td>Fords recall of F-150 vehicles</td>\n",
       "      <td>Aug</td>\n",
       "      <td>2024</td>\n",
       "      <td>negative</td>\n",
       "    </tr>\n",
       "  </tbody>\n",
       "</table>\n",
       "</div>"
      ],
      "text/plain": [
       "   Unnamed: 0                 id                                  text month  \\\n",
       "0           0  R_1QXxniNV3YpqUPq              It was about new vehicle   Aug   \n",
       "1           1  R_3DhVOZ3PTKZkWgp  Yes I have seen commercials for ford   Aug   \n",
       "2           2  R_5Ea54NwgY2tkvR6                    buy a ford product   Aug   \n",
       "3           3  R_1YEbWB9AKWFLJnK               largest employer in usa   Aug   \n",
       "4           4  R_1co47Ec7FvuwRpO        Fords recall of F-150 vehicles   Aug   \n",
       "\n",
       "   year sentiment  \n",
       "0  2024   neutral  \n",
       "1  2024   neutral  \n",
       "2  2024   neutral  \n",
       "3  2024   neutral  \n",
       "4  2024  negative  "
      ]
     },
     "execution_count": 3,
     "metadata": {},
     "output_type": "execute_result"
    }
   ],
   "source": [
    "# Load the data\n",
    "import pandas as pd\n",
    "df = pd.read_csv(r'./output/sentiment_cpr_fewshot_Aug_2024.csv')\n",
    "df.head()"
   ]
  },
  {
   "cell_type": "code",
   "execution_count": 4,
   "id": "6281bbe5",
   "metadata": {
    "tags": []
   },
   "outputs": [],
   "source": [
    "# # Load the data\n",
    "# import pandas as pd\n",
    "# #df = pd.read_csv(r'output_cpr_dec.csv')\n",
    "# #df = pd.read_csv(r'output_cpr_jan.csv')\n",
    "# #df = pd.read_csv(r'CPR_consolidated_Aug2023_Mar2024.csv')\n",
    "# df = pd.read_csv(r'./output/sentiment_cpr_fewshot_mar_2024.csv')\n",
    "# df.head()"
   ]
  },
  {
   "cell_type": "code",
   "execution_count": 4,
   "id": "f6ee8bbc",
   "metadata": {
    "tags": []
   },
   "outputs": [
    {
     "name": "stderr",
     "output_type": "stream",
     "text": [
      "/opt/conda/lib/python3.10/site-packages/torch/__init__.py:696: UserWarning: torch.set_default_tensor_type() is deprecated as of PyTorch 2.1, please use torch.set_default_dtype() and torch.set_default_device() as alternatives. (Triggered internally at ../torch/csrc/tensor/python_tensor.cpp:451.)\n",
      "  _C._set_default_tensor_type(t)\n"
     ]
    }
   ],
   "source": [
    "# Clean the data\n",
    "nlp = spacy.load('en_core_web_sm')\n",
    "stopwords = list(STOPWORDS)\n",
    "stopwords.extend(['Ford','the', 'is', 'of', 'and', 'a', 'in', 'to', 'on', 'for', 'you', 'your', 'me', 'my', 'i', 'we', 'our', 'they', 'their', 'them', 'this', 'that', 'these', 'those', 'he', 'she', 'it', 'him', 'her', 'its', 'has', 'have', 'had', 'do', 'does', 'did', 'will', 'would', 'should', 'could', 'may', 'might', 'must', 'can', 'cannot', 'not', 'no', 'but', 'or', 'if', 'then', 'else', 'when', 'where', 'why', 'how', 'what', 'who', 'whom', 'whose', 'which', 'whether', 'few', 'several', 'many', 'most', 'all', 'any', 'some', 'none', 'one', 'two', 'three', 'four', 'five', 'six', 'seven', 'eight', 'nine', 'ten', 'hundred', 'thousand', 'million', 'billion', 'trillion', 'etc', 'etc.', 'new'])\n",
    "def clean_text(text):\n",
    "   doc = nlp(str(text), disable=['parser', 'ner'])\n",
    "   tokens = [token.lemma_ for token in doc if not token.is_stop]# and not token.is_punct and len(token.text) > 2]\n",
    "   return ' '.join(tokens)"
   ]
  },
  {
   "cell_type": "code",
   "execution_count": 6,
   "id": "4d395bc8",
   "metadata": {
    "tags": []
   },
   "outputs": [],
   "source": [
    "df['cleaned_text'] = df['text'].apply(clean_text)"
   ]
  },
  {
   "cell_type": "code",
   "execution_count": 8,
   "id": "45ed9d59-6d56-4522-85ec-7452b0f1491f",
   "metadata": {
    "tags": []
   },
   "outputs": [],
   "source": [
    "#df.loc[df[\"Month\"] ==\"Mar\",:].head()"
   ]
  },
  {
   "cell_type": "code",
   "execution_count": 7,
   "id": "7b526b11-b2cd-4d79-805c-48635b92cf32",
   "metadata": {
    "tags": []
   },
   "outputs": [
    {
     "data": {
      "text/html": [
       "<div>\n",
       "<style scoped>\n",
       "    .dataframe tbody tr th:only-of-type {\n",
       "        vertical-align: middle;\n",
       "    }\n",
       "\n",
       "    .dataframe tbody tr th {\n",
       "        vertical-align: top;\n",
       "    }\n",
       "\n",
       "    .dataframe thead th {\n",
       "        text-align: right;\n",
       "    }\n",
       "</style>\n",
       "<table border=\"1\" class=\"dataframe\">\n",
       "  <thead>\n",
       "    <tr style=\"text-align: right;\">\n",
       "      <th></th>\n",
       "      <th>Unnamed: 0</th>\n",
       "      <th>id</th>\n",
       "      <th>text</th>\n",
       "      <th>month</th>\n",
       "      <th>year</th>\n",
       "      <th>sentiment</th>\n",
       "      <th>cleaned_text</th>\n",
       "    </tr>\n",
       "  </thead>\n",
       "  <tbody>\n",
       "    <tr>\n",
       "      <th>0</th>\n",
       "      <td>0</td>\n",
       "      <td>R_1QXxniNV3YpqUPq</td>\n",
       "      <td>It was about new vehicle</td>\n",
       "      <td>Aug</td>\n",
       "      <td>2024</td>\n",
       "      <td>neutral</td>\n",
       "      <td>new vehicle</td>\n",
       "    </tr>\n",
       "    <tr>\n",
       "      <th>1</th>\n",
       "      <td>1</td>\n",
       "      <td>R_3DhVOZ3PTKZkWgp</td>\n",
       "      <td>Yes I have seen commercials for ford</td>\n",
       "      <td>Aug</td>\n",
       "      <td>2024</td>\n",
       "      <td>neutral</td>\n",
       "      <td>yes see commercial ford</td>\n",
       "    </tr>\n",
       "    <tr>\n",
       "      <th>2</th>\n",
       "      <td>2</td>\n",
       "      <td>R_5Ea54NwgY2tkvR6</td>\n",
       "      <td>buy a ford product</td>\n",
       "      <td>Aug</td>\n",
       "      <td>2024</td>\n",
       "      <td>neutral</td>\n",
       "      <td>buy ford product</td>\n",
       "    </tr>\n",
       "    <tr>\n",
       "      <th>3</th>\n",
       "      <td>3</td>\n",
       "      <td>R_1YEbWB9AKWFLJnK</td>\n",
       "      <td>largest employer in usa</td>\n",
       "      <td>Aug</td>\n",
       "      <td>2024</td>\n",
       "      <td>neutral</td>\n",
       "      <td>large employer usa</td>\n",
       "    </tr>\n",
       "    <tr>\n",
       "      <th>4</th>\n",
       "      <td>4</td>\n",
       "      <td>R_1co47Ec7FvuwRpO</td>\n",
       "      <td>Fords recall of F-150 vehicles</td>\n",
       "      <td>Aug</td>\n",
       "      <td>2024</td>\n",
       "      <td>negative</td>\n",
       "      <td>ford recall F-150 vehicle</td>\n",
       "    </tr>\n",
       "    <tr>\n",
       "      <th>...</th>\n",
       "      <td>...</td>\n",
       "      <td>...</td>\n",
       "      <td>...</td>\n",
       "      <td>...</td>\n",
       "      <td>...</td>\n",
       "      <td>...</td>\n",
       "      <td>...</td>\n",
       "    </tr>\n",
       "    <tr>\n",
       "      <th>467</th>\n",
       "      <td>467</td>\n",
       "      <td>R_6nCY5c1j1ZGUX9S</td>\n",
       "      <td>that it was exapanding</td>\n",
       "      <td>Aug</td>\n",
       "      <td>2024</td>\n",
       "      <td>neutral</td>\n",
       "      <td>exapande</td>\n",
       "    </tr>\n",
       "    <tr>\n",
       "      <th>468</th>\n",
       "      <td>468</td>\n",
       "      <td>R_3t9fVWP70zFU9iP</td>\n",
       "      <td>It has a good fit for motor that make a good f...</td>\n",
       "      <td>Aug</td>\n",
       "      <td>2024</td>\n",
       "      <td>positive</td>\n",
       "      <td>good fit motor good fit ba sa good fit s good ...</td>\n",
       "    </tr>\n",
       "    <tr>\n",
       "      <th>469</th>\n",
       "      <td>469</td>\n",
       "      <td>R_1n0P0NNv5Ijvesp</td>\n",
       "      <td>Great</td>\n",
       "      <td>Aug</td>\n",
       "      <td>2024</td>\n",
       "      <td>positive</td>\n",
       "      <td>great</td>\n",
       "    </tr>\n",
       "    <tr>\n",
       "      <th>470</th>\n",
       "      <td>470</td>\n",
       "      <td>R_3P3eupNFhLpNxFT</td>\n",
       "      <td>No trucks out</td>\n",
       "      <td>Aug</td>\n",
       "      <td>2024</td>\n",
       "      <td>negative</td>\n",
       "      <td>truck</td>\n",
       "    </tr>\n",
       "    <tr>\n",
       "      <th>471</th>\n",
       "      <td>471</td>\n",
       "      <td>R_3xPUgaWXhF2HQCB</td>\n",
       "      <td>Something about a union</td>\n",
       "      <td>Aug</td>\n",
       "      <td>2024</td>\n",
       "      <td>neutral</td>\n",
       "      <td>union</td>\n",
       "    </tr>\n",
       "  </tbody>\n",
       "</table>\n",
       "<p>472 rows × 7 columns</p>\n",
       "</div>"
      ],
      "text/plain": [
       "     Unnamed: 0                 id  \\\n",
       "0             0  R_1QXxniNV3YpqUPq   \n",
       "1             1  R_3DhVOZ3PTKZkWgp   \n",
       "2             2  R_5Ea54NwgY2tkvR6   \n",
       "3             3  R_1YEbWB9AKWFLJnK   \n",
       "4             4  R_1co47Ec7FvuwRpO   \n",
       "..          ...                ...   \n",
       "467         467  R_6nCY5c1j1ZGUX9S   \n",
       "468         468  R_3t9fVWP70zFU9iP   \n",
       "469         469  R_1n0P0NNv5Ijvesp   \n",
       "470         470  R_3P3eupNFhLpNxFT   \n",
       "471         471  R_3xPUgaWXhF2HQCB   \n",
       "\n",
       "                                                  text month  year sentiment  \\\n",
       "0                             It was about new vehicle   Aug  2024   neutral   \n",
       "1                 Yes I have seen commercials for ford   Aug  2024   neutral   \n",
       "2                                   buy a ford product   Aug  2024   neutral   \n",
       "3                              largest employer in usa   Aug  2024   neutral   \n",
       "4                       Fords recall of F-150 vehicles   Aug  2024  negative   \n",
       "..                                                 ...   ...   ...       ...   \n",
       "467                             that it was exapanding   Aug  2024   neutral   \n",
       "468  It has a good fit for motor that make a good f...   Aug  2024  positive   \n",
       "469                                              Great   Aug  2024  positive   \n",
       "470                                      No trucks out   Aug  2024  negative   \n",
       "471                            Something about a union   Aug  2024   neutral   \n",
       "\n",
       "                                          cleaned_text  \n",
       "0                                          new vehicle  \n",
       "1                              yes see commercial ford  \n",
       "2                                     buy ford product  \n",
       "3                                   large employer usa  \n",
       "4                            ford recall F-150 vehicle  \n",
       "..                                                 ...  \n",
       "467                                           exapande  \n",
       "468  good fit motor good fit ba sa good fit s good ...  \n",
       "469                                              great  \n",
       "470                                              truck  \n",
       "471                                              union  \n",
       "\n",
       "[472 rows x 7 columns]"
      ]
     },
     "execution_count": 7,
     "metadata": {},
     "output_type": "execute_result"
    }
   ],
   "source": [
    "df"
   ]
  },
  {
   "cell_type": "code",
   "execution_count": 9,
   "id": "7e2823cb",
   "metadata": {
    "tags": []
   },
   "outputs": [],
   "source": [
    "#df.loc[df[\"category\"] ==\"Corporate issues\",:].head()"
   ]
  },
  {
   "cell_type": "code",
   "execution_count": 10,
   "id": "40b6a786",
   "metadata": {
    "tags": []
   },
   "outputs": [],
   "source": [
    "df.to_csv('wordcloud.csv')"
   ]
  },
  {
   "cell_type": "code",
   "execution_count": 8,
   "id": "d8968c8c",
   "metadata": {
    "tags": []
   },
   "outputs": [],
   "source": [
    "# Create a wordcloud by sentiment\n",
    "for sentiment in df['sentiment'].unique():\n",
    "    wordcloud = WordCloud(stopwords=stopwords, background_color='white').generate(' '.join(df[df['sentiment'] == sentiment]['cleaned_text']))\n",
    "    wordcloud.to_file('output\\\\Wordclouds\\\\Aug24_wordcloud.png')\n",
    "    wordcloud.to_file('./output/Wordclouds/Aug24_wordcloud.png')"
   ]
  },
  {
   "cell_type": "code",
   "execution_count": 12,
   "id": "4d16841e",
   "metadata": {
    "tags": []
   },
   "outputs": [
    {
     "data": {
      "text/plain": [
       "<wordcloud.wordcloud.WordCloud at 0x7f0e9e857700>"
      ]
     },
     "execution_count": 12,
     "metadata": {},
     "output_type": "execute_result"
    }
   ],
   "source": [
    "# # Create a global wordcloud\n",
    "# wordcloud = WordCloud(stopwords=stopwords, background_color='white',max_words=100).generate(' '.join(df.loc[df[\"sentiment\"] ==\"neutral\",:]['cleaned_text']))\n",
    "# #plt.figure(figsize=(10, 10))\n",
    "# #plt.imshow(wordcloud)\n",
    "# #plt.axis('off')\n",
    "# #plt.show()\n",
    "# wordcloud.to_file('output\\\\Wordclouds\\\\Jun24\\\\Jun24_wordcloud.png')"
   ]
  },
  {
   "cell_type": "code",
   "execution_count": null,
   "id": "e884d26d-b0a5-4f4c-bf67-0772fab18c07",
   "metadata": {},
   "outputs": [],
   "source": []
  },
  {
   "cell_type": "code",
   "execution_count": null,
   "id": "b20839d2-660f-4fe1-8e13-6f3ad28706ca",
   "metadata": {},
   "outputs": [],
   "source": []
  },
  {
   "cell_type": "code",
   "execution_count": null,
   "id": "865078ac-f53c-42cd-bd8d-eacccb233ce1",
   "metadata": {},
   "outputs": [],
   "source": []
  },
  {
   "cell_type": "markdown",
   "id": "9a396004-7578-4917-b824-c360e05da6ec",
   "metadata": {},
   "source": [
    "## WordCloud By Category"
   ]
  },
  {
   "cell_type": "code",
   "execution_count": 1,
   "id": "363b7a50-53a3-4633-aabf-6cfdf60b7975",
   "metadata": {
    "tags": []
   },
   "outputs": [
    {
     "data": {
      "text/html": [
       "<div>\n",
       "<style scoped>\n",
       "    .dataframe tbody tr th:only-of-type {\n",
       "        vertical-align: middle;\n",
       "    }\n",
       "\n",
       "    .dataframe tbody tr th {\n",
       "        vertical-align: top;\n",
       "    }\n",
       "\n",
       "    .dataframe thead th {\n",
       "        text-align: right;\n",
       "    }\n",
       "</style>\n",
       "<table border=\"1\" class=\"dataframe\">\n",
       "  <thead>\n",
       "    <tr style=\"text-align: right;\">\n",
       "      <th></th>\n",
       "      <th>Unnamed: 0</th>\n",
       "      <th>id</th>\n",
       "      <th>text</th>\n",
       "      <th>month</th>\n",
       "      <th>year</th>\n",
       "      <th>sentiment</th>\n",
       "      <th>Category</th>\n",
       "    </tr>\n",
       "  </thead>\n",
       "  <tbody>\n",
       "    <tr>\n",
       "      <th>0</th>\n",
       "      <td>0</td>\n",
       "      <td>R_1QXxniNV3YpqUPq</td>\n",
       "      <td>It was about new vehicle</td>\n",
       "      <td>Aug</td>\n",
       "      <td>2024</td>\n",
       "      <td>neutral</td>\n",
       "      <td>Product related</td>\n",
       "    </tr>\n",
       "    <tr>\n",
       "      <th>1</th>\n",
       "      <td>1</td>\n",
       "      <td>R_3DhVOZ3PTKZkWgp</td>\n",
       "      <td>Yes I have seen commercials for ford</td>\n",
       "      <td>Aug</td>\n",
       "      <td>2024</td>\n",
       "      <td>neutral</td>\n",
       "      <td>Other</td>\n",
       "    </tr>\n",
       "    <tr>\n",
       "      <th>2</th>\n",
       "      <td>2</td>\n",
       "      <td>R_5Ea54NwgY2tkvR6</td>\n",
       "      <td>buy a ford product</td>\n",
       "      <td>Aug</td>\n",
       "      <td>2024</td>\n",
       "      <td>neutral</td>\n",
       "      <td>Other</td>\n",
       "    </tr>\n",
       "    <tr>\n",
       "      <th>3</th>\n",
       "      <td>3</td>\n",
       "      <td>R_1YEbWB9AKWFLJnK</td>\n",
       "      <td>largest employer in usa</td>\n",
       "      <td>Aug</td>\n",
       "      <td>2024</td>\n",
       "      <td>neutral</td>\n",
       "      <td>Other</td>\n",
       "    </tr>\n",
       "    <tr>\n",
       "      <th>4</th>\n",
       "      <td>4</td>\n",
       "      <td>R_1co47Ec7FvuwRpO</td>\n",
       "      <td>Fords recall of F-150 vehicles</td>\n",
       "      <td>Aug</td>\n",
       "      <td>2024</td>\n",
       "      <td>negative</td>\n",
       "      <td>Product related</td>\n",
       "    </tr>\n",
       "  </tbody>\n",
       "</table>\n",
       "</div>"
      ],
      "text/plain": [
       "   Unnamed: 0                 id                                  text month  \\\n",
       "0           0  R_1QXxniNV3YpqUPq              It was about new vehicle   Aug   \n",
       "1           1  R_3DhVOZ3PTKZkWgp  Yes I have seen commercials for ford   Aug   \n",
       "2           2  R_5Ea54NwgY2tkvR6                    buy a ford product   Aug   \n",
       "3           3  R_1YEbWB9AKWFLJnK               largest employer in usa   Aug   \n",
       "4           4  R_1co47Ec7FvuwRpO        Fords recall of F-150 vehicles   Aug   \n",
       "\n",
       "   year sentiment         Category  \n",
       "0  2024   neutral  Product related  \n",
       "1  2024   neutral            Other  \n",
       "2  2024   neutral            Other  \n",
       "3  2024   neutral            Other  \n",
       "4  2024  negative  Product related  "
      ]
     },
     "execution_count": 1,
     "metadata": {},
     "output_type": "execute_result"
    }
   ],
   "source": [
    "# Load the data\n",
    "import pandas as pd\n",
    "df1 = pd.read_csv(r'./output/sentiment_cpr_with_category_Aug_2024.csv')\n",
    "df1.head()"
   ]
  },
  {
   "cell_type": "code",
   "execution_count": 3,
   "id": "8350276b-5697-47f0-93cd-72c46d85660a",
   "metadata": {
    "tags": []
   },
   "outputs": [
    {
     "name": "stderr",
     "output_type": "stream",
     "text": [
      "/opt/conda/lib/python3.10/site-packages/torch/cuda/__init__.py:141: UserWarning: CUDA initialization: The NVIDIA driver on your system is too old (found version 11060). Please update your GPU driver by downloading and installing a new version from the URL: http://www.nvidia.com/Download/index.aspx Alternatively, go to: https://pytorch.org to install a PyTorch version that has been compiled with your version of the CUDA driver. (Triggered internally at ../c10/cuda/CUDAFunctions.cpp:108.)\n",
      "  return torch._C._cuda_getDeviceCount() > 0\n",
      "2024-09-10 11:50:07.867169: I tensorflow/core/platform/cpu_feature_guard.cc:182] This TensorFlow binary is optimized to use available CPU instructions in performance-critical operations.\n",
      "To enable the following instructions: AVX2 FMA, in other operations, rebuild TensorFlow with the appropriate compiler flags.\n"
     ]
    }
   ],
   "source": [
    "import spacy\n",
    "import wordcloud\n",
    "import pandas as pd\n",
    "import matplotlib.pyplot as plt\n",
    "from wordcloud import WordCloud, STOPWORDS"
   ]
  },
  {
   "cell_type": "code",
   "execution_count": 4,
   "id": "e1cb545c-2322-414f-b991-a1c9b6bfe253",
   "metadata": {
    "tags": []
   },
   "outputs": [
    {
     "name": "stderr",
     "output_type": "stream",
     "text": [
      "/opt/conda/lib/python3.10/site-packages/torch/__init__.py:696: UserWarning: torch.set_default_tensor_type() is deprecated as of PyTorch 2.1, please use torch.set_default_dtype() and torch.set_default_device() as alternatives. (Triggered internally at ../torch/csrc/tensor/python_tensor.cpp:451.)\n",
      "  _C._set_default_tensor_type(t)\n"
     ]
    }
   ],
   "source": [
    "# Clean the data\n",
    "nlp = spacy.load('en_core_web_sm')\n",
    "stopwords = list(STOPWORDS)\n",
    "stopwords.extend(['Ford','the', 'is', 'of', 'and', 'a', 'in', 'to', 'on', 'for', 'you', 'your', 'me', 'my', 'i', 'we', 'our', 'they', 'their', 'them', 'this', 'that', 'these', 'those', 'he', 'she', 'it', 'him', 'her', 'its', 'has', 'have', 'had', 'do', 'does', 'did', 'will', 'would', 'should', 'could', 'may', 'might', 'must', 'can', 'cannot', 'not', 'no', 'but', 'or', 'if', 'then', 'else', 'when', 'where', 'why', 'how', 'what', 'who', 'whom', 'whose', 'which', 'whether', 'few', 'several', 'many', 'most', 'all', 'any', 'some', 'none', 'one', 'two', 'three', 'four', 'five', 'six', 'seven', 'eight', 'nine', 'ten', 'hundred', 'thousand', 'million', 'billion', 'trillion', 'etc', 'etc.', 'new'])\n",
    "def clean_text(text):\n",
    "   doc = nlp(str(text), disable=['parser', 'ner'])\n",
    "   tokens = [token.lemma_ for token in doc if not token.is_stop]# and not token.is_punct and len(token.text) > 2]\n",
    "   return ' '.join(tokens)"
   ]
  },
  {
   "cell_type": "code",
   "execution_count": 5,
   "id": "49fa29a5",
   "metadata": {
    "tags": []
   },
   "outputs": [],
   "source": [
    "df1['cleaned_text'] = df1['text'].apply(clean_text)"
   ]
  },
  {
   "cell_type": "code",
   "execution_count": 6,
   "id": "bc89bce7-7421-49d3-9627-4dee9c2f2568",
   "metadata": {
    "tags": []
   },
   "outputs": [
    {
     "data": {
      "text/html": [
       "<div>\n",
       "<style scoped>\n",
       "    .dataframe tbody tr th:only-of-type {\n",
       "        vertical-align: middle;\n",
       "    }\n",
       "\n",
       "    .dataframe tbody tr th {\n",
       "        vertical-align: top;\n",
       "    }\n",
       "\n",
       "    .dataframe thead th {\n",
       "        text-align: right;\n",
       "    }\n",
       "</style>\n",
       "<table border=\"1\" class=\"dataframe\">\n",
       "  <thead>\n",
       "    <tr style=\"text-align: right;\">\n",
       "      <th></th>\n",
       "      <th>Unnamed: 0</th>\n",
       "      <th>id</th>\n",
       "      <th>text</th>\n",
       "      <th>month</th>\n",
       "      <th>year</th>\n",
       "      <th>sentiment</th>\n",
       "      <th>Category</th>\n",
       "      <th>cleaned_text</th>\n",
       "    </tr>\n",
       "  </thead>\n",
       "  <tbody>\n",
       "    <tr>\n",
       "      <th>0</th>\n",
       "      <td>0</td>\n",
       "      <td>R_1QXxniNV3YpqUPq</td>\n",
       "      <td>It was about new vehicle</td>\n",
       "      <td>Aug</td>\n",
       "      <td>2024</td>\n",
       "      <td>neutral</td>\n",
       "      <td>Product related</td>\n",
       "      <td>new vehicle</td>\n",
       "    </tr>\n",
       "    <tr>\n",
       "      <th>1</th>\n",
       "      <td>1</td>\n",
       "      <td>R_3DhVOZ3PTKZkWgp</td>\n",
       "      <td>Yes I have seen commercials for ford</td>\n",
       "      <td>Aug</td>\n",
       "      <td>2024</td>\n",
       "      <td>neutral</td>\n",
       "      <td>Other</td>\n",
       "      <td>yes see commercial ford</td>\n",
       "    </tr>\n",
       "    <tr>\n",
       "      <th>2</th>\n",
       "      <td>2</td>\n",
       "      <td>R_5Ea54NwgY2tkvR6</td>\n",
       "      <td>buy a ford product</td>\n",
       "      <td>Aug</td>\n",
       "      <td>2024</td>\n",
       "      <td>neutral</td>\n",
       "      <td>Other</td>\n",
       "      <td>buy ford product</td>\n",
       "    </tr>\n",
       "    <tr>\n",
       "      <th>3</th>\n",
       "      <td>3</td>\n",
       "      <td>R_1YEbWB9AKWFLJnK</td>\n",
       "      <td>largest employer in usa</td>\n",
       "      <td>Aug</td>\n",
       "      <td>2024</td>\n",
       "      <td>neutral</td>\n",
       "      <td>Other</td>\n",
       "      <td>large employer usa</td>\n",
       "    </tr>\n",
       "    <tr>\n",
       "      <th>4</th>\n",
       "      <td>4</td>\n",
       "      <td>R_1co47Ec7FvuwRpO</td>\n",
       "      <td>Fords recall of F-150 vehicles</td>\n",
       "      <td>Aug</td>\n",
       "      <td>2024</td>\n",
       "      <td>negative</td>\n",
       "      <td>Product related</td>\n",
       "      <td>ford recall F-150 vehicle</td>\n",
       "    </tr>\n",
       "    <tr>\n",
       "      <th>...</th>\n",
       "      <td>...</td>\n",
       "      <td>...</td>\n",
       "      <td>...</td>\n",
       "      <td>...</td>\n",
       "      <td>...</td>\n",
       "      <td>...</td>\n",
       "      <td>...</td>\n",
       "      <td>...</td>\n",
       "    </tr>\n",
       "    <tr>\n",
       "      <th>467</th>\n",
       "      <td>467</td>\n",
       "      <td>R_6nCY5c1j1ZGUX9S</td>\n",
       "      <td>that it was exapanding</td>\n",
       "      <td>Aug</td>\n",
       "      <td>2024</td>\n",
       "      <td>neutral</td>\n",
       "      <td>Other</td>\n",
       "      <td>exapande</td>\n",
       "    </tr>\n",
       "    <tr>\n",
       "      <th>468</th>\n",
       "      <td>468</td>\n",
       "      <td>R_3t9fVWP70zFU9iP</td>\n",
       "      <td>It has a good fit for motor that make a good f...</td>\n",
       "      <td>Aug</td>\n",
       "      <td>2024</td>\n",
       "      <td>positive</td>\n",
       "      <td>Other</td>\n",
       "      <td>good fit motor good fit ba sa good fit s good ...</td>\n",
       "    </tr>\n",
       "    <tr>\n",
       "      <th>469</th>\n",
       "      <td>469</td>\n",
       "      <td>R_1n0P0NNv5Ijvesp</td>\n",
       "      <td>Great</td>\n",
       "      <td>Aug</td>\n",
       "      <td>2024</td>\n",
       "      <td>positive</td>\n",
       "      <td>Other</td>\n",
       "      <td>great</td>\n",
       "    </tr>\n",
       "    <tr>\n",
       "      <th>470</th>\n",
       "      <td>470</td>\n",
       "      <td>R_3P3eupNFhLpNxFT</td>\n",
       "      <td>No trucks out</td>\n",
       "      <td>Aug</td>\n",
       "      <td>2024</td>\n",
       "      <td>negative</td>\n",
       "      <td>Other</td>\n",
       "      <td>truck</td>\n",
       "    </tr>\n",
       "    <tr>\n",
       "      <th>471</th>\n",
       "      <td>471</td>\n",
       "      <td>R_3xPUgaWXhF2HQCB</td>\n",
       "      <td>Something about a union</td>\n",
       "      <td>Aug</td>\n",
       "      <td>2024</td>\n",
       "      <td>neutral</td>\n",
       "      <td>Corporate issues</td>\n",
       "      <td>union</td>\n",
       "    </tr>\n",
       "  </tbody>\n",
       "</table>\n",
       "<p>472 rows × 8 columns</p>\n",
       "</div>"
      ],
      "text/plain": [
       "     Unnamed: 0                 id  \\\n",
       "0             0  R_1QXxniNV3YpqUPq   \n",
       "1             1  R_3DhVOZ3PTKZkWgp   \n",
       "2             2  R_5Ea54NwgY2tkvR6   \n",
       "3             3  R_1YEbWB9AKWFLJnK   \n",
       "4             4  R_1co47Ec7FvuwRpO   \n",
       "..          ...                ...   \n",
       "467         467  R_6nCY5c1j1ZGUX9S   \n",
       "468         468  R_3t9fVWP70zFU9iP   \n",
       "469         469  R_1n0P0NNv5Ijvesp   \n",
       "470         470  R_3P3eupNFhLpNxFT   \n",
       "471         471  R_3xPUgaWXhF2HQCB   \n",
       "\n",
       "                                                  text month  year sentiment  \\\n",
       "0                             It was about new vehicle   Aug  2024   neutral   \n",
       "1                 Yes I have seen commercials for ford   Aug  2024   neutral   \n",
       "2                                   buy a ford product   Aug  2024   neutral   \n",
       "3                              largest employer in usa   Aug  2024   neutral   \n",
       "4                       Fords recall of F-150 vehicles   Aug  2024  negative   \n",
       "..                                                 ...   ...   ...       ...   \n",
       "467                             that it was exapanding   Aug  2024   neutral   \n",
       "468  It has a good fit for motor that make a good f...   Aug  2024  positive   \n",
       "469                                              Great   Aug  2024  positive   \n",
       "470                                      No trucks out   Aug  2024  negative   \n",
       "471                            Something about a union   Aug  2024   neutral   \n",
       "\n",
       "             Category                                       cleaned_text  \n",
       "0     Product related                                        new vehicle  \n",
       "1               Other                            yes see commercial ford  \n",
       "2               Other                                   buy ford product  \n",
       "3               Other                                 large employer usa  \n",
       "4     Product related                          ford recall F-150 vehicle  \n",
       "..                ...                                                ...  \n",
       "467             Other                                           exapande  \n",
       "468             Other  good fit motor good fit ba sa good fit s good ...  \n",
       "469             Other                                              great  \n",
       "470             Other                                              truck  \n",
       "471  Corporate issues                                              union  \n",
       "\n",
       "[472 rows x 8 columns]"
      ]
     },
     "execution_count": 6,
     "metadata": {},
     "output_type": "execute_result"
    }
   ],
   "source": [
    "df1"
   ]
  },
  {
   "cell_type": "code",
   "execution_count": 11,
   "id": "2823fd85",
   "metadata": {
    "tags": []
   },
   "outputs": [],
   "source": [
    "# Create wordclouds by Category\n",
    "for category in df1['Category'].unique():\n",
    "    wordcloud = WordCloud(stopwords=stopwords, background_color='white').generate(' '.join(df1[df1['Category'] == category]['cleaned_text']))\n",
    "    wordcloud.to_file(f'output/Wordclouds/Aug24_{category}.png')"
   ]
  },
  {
   "cell_type": "code",
   "execution_count": null,
   "id": "b5bdfbd0-2ce2-48f1-b5d0-59f7ea5c8826",
   "metadata": {},
   "outputs": [],
   "source": []
  }
 ],
 "metadata": {
  "environment": {
   "kernel": "python3",
   "name": "tf2-cpu.2-11.m113",
   "type": "gcloud",
   "uri": "gcr.io/deeplearning-platform-release/tf2-cpu.2-11:m113"
  },
  "kernelspec": {
   "display_name": "Python 3",
   "language": "python",
   "name": "python3"
  },
  "language_info": {
   "codemirror_mode": {
    "name": "ipython",
    "version": 3
   },
   "file_extension": ".py",
   "mimetype": "text/x-python",
   "name": "python",
   "nbconvert_exporter": "python",
   "pygments_lexer": "ipython3",
   "version": "3.10.13"
  }
 },
 "nbformat": 4,
 "nbformat_minor": 5
}
